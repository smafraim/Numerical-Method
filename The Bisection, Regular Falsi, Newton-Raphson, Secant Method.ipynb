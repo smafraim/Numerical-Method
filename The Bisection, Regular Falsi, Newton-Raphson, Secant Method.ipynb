{
 "cells": [
  {
   "cell_type": "markdown",
   "id": "c88532e9",
   "metadata": {},
   "source": [
    "#                                                                                                           **C191077**"
   ]
  },
  {
   "cell_type": "markdown",
   "id": "2b52646b-0b68-4cbb-bf60-fc819dd51108",
   "metadata": {},
   "source": [
    "<font size=\"5\">For a suppositional equation every root finding algo are deployed below and their outperformance statistics through matplotlib...</font>\n"
   ]
  },
  {
   "cell_type": "markdown",
   "id": "1e1827bc-8897-473b-bf47-61474670ad88",
   "metadata": {},
   "source": [
    "**i) The Bisection method**"
   ]
  },
  {
   "cell_type": "code",
   "execution_count": 11,
   "id": "0cc8aff2-8dfd-454f-9152-2f49f8b6019a",
   "metadata": {},
   "outputs": [
    {
     "name": "stdout",
     "output_type": "stream",
     "text": [
      "Your assumption is  incorrect! in range -10 through -9 \n",
      "Your assumption is  incorrect! in range -9 through -8 \n",
      "Your assumption is  incorrect! in range -8 through -7 \n",
      "Your assumption is  incorrect! in range -7 through -6 \n",
      "Your assumption is  incorrect! in range -6 through -5 \n",
      "Your assumption is  incorrect! in range -5 through -4 \n",
      "Your assumption is  incorrect! in range -4 through -3 \n",
      "Your assumption is  incorrect! in range -3 through -2 \n",
      "Your assumption is  incorrect! in range -2 through -1 \n",
      "Your assumption is  incorrect! in range -1 through 0 \n",
      "Your assumption is  incorrect! in range 0 through 1 \n",
      "Your assumption is  incorrect! in range 1 through 2 \n",
      "Your assumption is correct! in range 2 through 3 \n",
      "Calculated mid point:  2.5   Loop Counter:  1\n",
      "Calculated mid point:  2.75   Loop Counter:  2\n",
      "Calculated mid point:  2.625   Loop Counter:  3\n",
      "Calculated mid point:  2.5625   Loop Counter:  4\n",
      "Calculated mid point:  2.53125   Loop Counter:  5\n",
      "Calculated mid point:  2.546875   Loop Counter:  6\n",
      "Calculated mid point:  2.5546875   Loop Counter:  7\n",
      "Calculated mid point:  2.55078125   Loop Counter:  8\n",
      "Calculated mid point:  2.552734375   Loop Counter:  9\n",
      "Calculated mid point:  2.5537109375   Loop Counter:  10\n",
      "Calculated mid point:  2.55419921875   Loop Counter:  11\n",
      "Calculated mid point:  2.553955078125   Loop Counter:  12\n",
      "Calculated mid point:  2.5540771484375   Loop Counter:  13\n",
      "Calculated mid point:  2.55413818359375   Loop Counter:  14\n",
      "Calculated mid point:  2.554168701171875   Loop Counter:  15\n",
      "Calculated mid point:  2.5541534423828125   Loop Counter:  16\n",
      "Calculated mid point:  2.5541458129882812   Loop Counter:  17\n",
      "Calculated mid point:  2.554149627685547   Loop Counter:  18\n",
      "Calculated mid point:  2.554147720336914   Loop Counter:  19\n",
      "Calculated mid point:  2.5541486740112305   Loop Counter:  20\n",
      "Calculated mid point:  2.5541491508483887   Loop Counter:  21\n",
      "Calculated mid point:  2.5541493892669678   Loop Counter:  22\n",
      "Calculated mid point:  2.5541492700576782   Loop Counter:  23\n",
      "Calculated mid point:  2.5541492104530334   Loop Counter:  24\n",
      "The root is:  2.5541492104530334\n",
      "Your assumption is  incorrect! in range 3 through 4 \n",
      "Your assumption is  incorrect! in range 4 through 5 \n",
      "Your assumption is  incorrect! in range 5 through 6 \n",
      "Your assumption is  incorrect! in range 6 through 7 \n",
      "Your assumption is  incorrect! in range 7 through 8 \n",
      "Your assumption is  incorrect! in range 8 through 9 \n",
      "Your assumption is  incorrect! in range 9 through 10 \n"
     ]
    },
    {
     "data": {
      "image/png": "[encoded data removed]",
      "text/plain": [
       "<Figure size 432x288 with 1 Axes>"
      ]
     },
     "metadata": {
      "needs_background": "light"
     },
     "output_type": "display_data"
    }
   ],
   "source": [
    "def equation(eq):\n",
    "     return eq*eq*eq-3*eq-9   # amader equation (x^3-3x-9)\n",
    "err=[]\n",
    "ite=[]\n",
    "\n",
    "def BIS(a, b):\n",
    "    if equation(a)*equation(b) <0: #jodi 1st rule apply kore then we just print the roots that lies in beween a&b\n",
    "        print(\"Your assumption is correct! in range {} through {} \".format(a,b))\n",
    "        \n",
    "        counter=1\n",
    "        while((b-a) >= 0.0000001): # E=0.0001 nileu hoi but more zeros are for more accuracy\n",
    "            err.append(b-a)\n",
    "            c = (a+b)/2\n",
    "            print(\"Calculated mid point: \",c,\"  Loop Counter: \", counter)\n",
    "            ite.append(counter)\n",
    "            counter= counter + 1\n",
    "            if equation(c)==0:#midpoint 0 hoile stop as f(x)=0\n",
    "                break\n",
    "            else:\n",
    "                if equation(a)*equation(c) < 0:\n",
    "                    b = c\n",
    "                else:\n",
    "                    a = c\n",
    "        print(\"The root is: \",c)\n",
    "    else:\n",
    "         print(\"Your assumption is  incorrect! in range {} through {} \".format(a,b))        \n",
    " \n",
    "import matplotlib.pyplot as plt\n",
    "for i in range(-10,10):\n",
    "    a=i\n",
    "    b=i+1\n",
    "    BIS(a,b)\n",
    "plt.title(\"The Bisection Method \", fontsize=22)\n",
    "plt.xlabel(\"Iteration\", fontsize=17)\n",
    "plt.ylabel(\"Error\", fontsize=17)\n",
    "plt.plot(ite,err)\n",
    "plt.show()"
   ]
  },
  {
   "cell_type": "markdown",
   "id": "142c04fd-0ec0-41ae-92da-d6a74560d4a8",
   "metadata": {},
   "source": [
    "***ii) The Regular Falsi method***"
   ]
  },
  {
   "cell_type": "code",
   "execution_count": 12,
   "id": "5179b0d3-9cc4-44c6-b618-6252d7aca477",
   "metadata": {},
   "outputs": [
    {
     "name": "stdout",
     "output_type": "stream",
     "text": [
      "Your assumption is  incorrect! in range -25 through -24 \n",
      "Your assumption is  incorrect! in range -24 through -23 \n",
      "Your assumption is  incorrect! in range -23 through -22 \n",
      "Your assumption is  incorrect! in range -22 through -21 \n",
      "Your assumption is  incorrect! in range -21 through -20 \n",
      "Your assumption is  incorrect! in range -20 through -19 \n",
      "Your assumption is  incorrect! in range -19 through -18 \n",
      "Your assumption is  incorrect! in range -18 through -17 \n",
      "Your assumption is  incorrect! in range -17 through -16 \n",
      "Your assumption is  incorrect! in range -16 through -15 \n",
      "Your assumption is  incorrect! in range -15 through -14 \n",
      "Your assumption is  incorrect! in range -14 through -13 \n",
      "Your assumption is  incorrect! in range -13 through -12 \n",
      "Your assumption is  incorrect! in range -12 through -11 \n",
      "Your assumption is  incorrect! in range -11 through -10 \n",
      "Your assumption is  incorrect! in range -10 through -9 \n",
      "Your assumption is  incorrect! in range -9 through -8 \n",
      "Your assumption is  incorrect! in range -8 through -7 \n",
      "Your assumption is  incorrect! in range -7 through -6 \n",
      "Your assumption is  incorrect! in range -6 through -5 \n",
      "Your assumption is  incorrect! in range -5 through -4 \n",
      "Your assumption is  incorrect! in range -4 through -3 \n",
      "Your assumption is  incorrect! in range -3 through -2 \n",
      "Your assumption is  incorrect! in range -2 through -1 \n",
      "Your assumption is  incorrect! in range -1 through 0 \n",
      "Your assumption is  incorrect! in range 0 through 1 \n",
      "Your assumption is  incorrect! in range 1 through 2 \n",
      "Your assumption is correct! in range 2 through 3 \n",
      "Calculated mid point:  2.4375   Loop Counter:  1\n",
      "Calculated mid point:  2.532562385879489   Loop Counter:  2\n",
      "Calculated mid point:  2.5502599361749674   Loop Counter:  3\n",
      "Calculated mid point:  2.553451940430598   Loop Counter:  4\n",
      "Calculated mid point:  2.5540243202672532   Loop Counter:  5\n",
      "Calculated mid point:  2.5541268500410164   Loop Counter:  6\n",
      "Calculated mid point:  2.554145212637106   Loop Counter:  7\n",
      "Calculated mid point:  2.554148501180293   Loop Counter:  8\n",
      "Calculated mid point:  2.55414909011941   Loop Counter:  9\n",
      "Calculated mid point:  2.554149195591313   Loop Counter:  10\n",
      "Calculated mid point:  2.554149214480057   Loop Counter:  11\n",
      "The root is:  2.554149214480057\n",
      "Your assumption is  incorrect! in range 3 through 4 \n",
      "Your assumption is  incorrect! in range 4 through 5 \n",
      "Your assumption is  incorrect! in range 5 through 6 \n",
      "Your assumption is  incorrect! in range 6 through 7 \n",
      "Your assumption is  incorrect! in range 7 through 8 \n",
      "Your assumption is  incorrect! in range 8 through 9 \n",
      "Your assumption is  incorrect! in range 9 through 10 \n",
      "Your assumption is  incorrect! in range 10 through 11 \n",
      "Your assumption is  incorrect! in range 11 through 12 \n",
      "Your assumption is  incorrect! in range 12 through 13 \n",
      "Your assumption is  incorrect! in range 13 through 14 \n",
      "Your assumption is  incorrect! in range 14 through 15 \n",
      "Your assumption is  incorrect! in range 15 through 16 \n",
      "Your assumption is  incorrect! in range 16 through 17 \n",
      "Your assumption is  incorrect! in range 17 through 18 \n",
      "Your assumption is  incorrect! in range 18 through 19 \n",
      "Your assumption is  incorrect! in range 19 through 20 \n",
      "Your assumption is  incorrect! in range 20 through 21 \n",
      "Your assumption is  incorrect! in range 21 through 22 \n",
      "Your assumption is  incorrect! in range 22 through 23 \n",
      "Your assumption is  incorrect! in range 23 through 24 \n",
      "Your assumption is  incorrect! in range 24 through 25 \n"
     ]
    },
    {
     "data": {
      "image/png": "[encoded data removed]",
      "text/plain": [
       "<Figure size 432x288 with 1 Axes>"
      ]
     },
     "metadata": {
      "needs_background": "light"
     },
     "output_type": "display_data"
    }
   ],
   "source": [
    "def eqn(x):\n",
    "      return x*x*x-3*x-9 # amader equation = (x^3-3x-9=0) \n",
    "\n",
    "err=[]\n",
    "ite=[]\n",
    "def falsi(a, b):\n",
    "        cnt=1\n",
    "        e=0.0000001\n",
    "        condition =True \n",
    "        while(condition):\n",
    "            err.append(b-a)\n",
    "            c = (a*eqn(b) - b*eqn(a) )/( eqn(b)-eqn(a))\n",
    "            print(\"Calculated mid point: \",c,\"  Loop Counter: \", cnt)\n",
    "            ite.append(cnt)\n",
    "            cnt= cnt + 1\n",
    "            if eqn(a)*eqn(c) < 0:\n",
    "                b = c\n",
    "            else:\n",
    "                a = c\n",
    "            condition=abs(eqn(c))>e # |b-a| >e\n",
    "   \n",
    "        print(\"The root is: \",c) \n",
    "\n",
    "\n",
    "\n",
    "\n",
    "import matplotlib.pyplot as plt\n",
    "\n",
    "for i in range( -25 , 25 ):\n",
    "    a=i\n",
    "    b=i+1\n",
    "\n",
    "    if eqn(a)*eqn(b) <0:\n",
    "       \n",
    "        print(\"Your assumption is correct! in range {} through {} \".format(a,b))\n",
    "\n",
    "        falsi(a,b) \n",
    "    else:\n",
    "         print(\"Your assumption is  incorrect! in range {} through {} \".format(a,b)) \n",
    "\n",
    "          \n",
    "plt.title(\"Regular Falsi Method \")\n",
    "plt.xlabel(\"Iteration\", fontsize=14)\n",
    "plt.ylabel(\"Error\", fontsize=14)\n",
    "plt.plot(ite,err)\n",
    "plt.show()\n"
   ]
  },
  {
   "cell_type": "markdown",
   "id": "6c54dcb8-ec80-4d78-8a40-ac294a51fab6",
   "metadata": {},
   "source": [
    "**iii) The Newton-Raphson method**"
   ]
  },
  {
   "cell_type": "code",
   "execution_count": 13,
   "id": "40366f93-6f6d-45b3-bdfa-1af220166341",
   "metadata": {},
   "outputs": [
    {
     "name": "stdout",
     "output_type": "stream",
     "text": [
      "For a=  -2\n",
      "Loop count:  1 B=  -0.7777777777777777\n",
      "Loop count:  2 B=  -6.799768518518516\n",
      "Loop count:  3 B=  -4.567071269383163\n",
      "Loop count:  4 B=  -3.0469658597378055\n",
      "Loop count:  5 B=  -1.9143756002341574\n",
      "Loop count:  6 B=  -0.6293997372445173\n",
      "Loop count:  7 B=  -4.692804529483841\n",
      "Loop count:  8 B=  -3.1346506056548518\n",
      "Loop count:  9 B=  -1.9866366172458287\n",
      "Loop count:  10 B=  -0.7558014281341574\n",
      "The root is:  -0.7558014281341574\n"
     ]
    },
    {
     "data": {
      "image/png": "[encoded data removed]",
      "text/plain": [
       "<Figure size 432x288 with 1 Axes>"
      ]
     },
     "metadata": {
      "needs_background": "light"
     },
     "output_type": "display_data"
    }
   ],
   "source": [
    "def eqn(x):\n",
    "     return x*x*x-3*x-9  #x^3-3x-9\n",
    "def eqn_dif(x):\n",
    "    return 3*x*x-3 # diff : 3x^2-3\n",
    "\n",
    "err=[]\n",
    "ite=[]\n",
    "def newton(a):\n",
    "    i=1\n",
    "    e=0.0000001\n",
    "    \n",
    "   \n",
    "    \n",
    "    condition = True\n",
    "    while(condition):\n",
    "        \n",
    "        b=a- eqn(a)/eqn_dif(a)\n",
    "        err.append(b)\n",
    "        print(\"Loop count: \",i,\"B= \",b )\n",
    "        ite.append(i)\n",
    "        i=i+1\n",
    "        \n",
    "            \n",
    "        a=b\n",
    "        if(i>10):\n",
    "            break\n",
    "        if(eqn_dif(a)==0):\n",
    "            break\n",
    "        condition = abs(eqn(b))>e\n",
    "    print(\"The root is: \",b)\n",
    "    \n",
    "\n",
    "import matplotlib.pyplot as plt\n",
    "\n",
    "\n",
    "for i in range(-2,-1):\n",
    "    a=i\n",
    "    print(\"For a= \",a)\n",
    "    newton(a)\n",
    "plt.title(\"Newton Method \", fontsize=20)\n",
    "plt.xlabel(\"Iteration\", fontsize=14)\n",
    "plt.ylabel(\"Error\", fontsize=14)\n",
    "plt.plot(ite,err)\n",
    "plt.show()\n",
    "\n"
   ]
  },
  {
   "cell_type": "markdown",
   "id": "e4d2c443-3b5a-4278-b12d-c387b2b7c18f",
   "metadata": {},
   "source": [
    "**iv) The Secant Method**\n"
   ]
  },
  {
   "cell_type": "code",
   "execution_count": 14,
   "id": "23268830-284c-4a43-b1a7-062109ded514",
   "metadata": {},
   "outputs": [
    {
     "name": "stdout",
     "output_type": "stream",
     "text": [
      "Loop count:  1  and mid point=  2.4375\n",
      "Loop count:  2  and mid point=  2.532562385879489\n",
      "Loop count:  3  and mid point=  2.5553693456935433\n",
      "Loop count:  4  and mid point=  2.5541369568153884\n",
      "Loop count:  5  and mid point=  2.5541492116856075\n",
      "Loop count:  6  and mid point=  2.5541492186008123\n",
      "The root is:  2.5541492186008123\n"
     ]
    },
    {
     "data": {
      "image/png": "[encoded data removed]",
      "text/plain": [
       "<Figure size 432x288 with 1 Axes>"
      ]
     },
     "metadata": {
      "needs_background": "light"
     },
     "output_type": "display_data"
    }
   ],
   "source": [
    "def eqn(x):\n",
    "     return x*x*x-3*x-9  # \n",
    "err=[]\n",
    "ite=[]\n",
    "def secant(x1,x2):\n",
    "    i=1\n",
    "    e=0.0000001\n",
    "    \n",
    "    \n",
    "    \n",
    "    condition = True\n",
    "    while(condition):\n",
    "        \n",
    "        x3 = x2 - ((x2-x1)*eqn(x2))/(eqn(x2)-eqn(x1))\n",
    "        err.append(x3)\n",
    "        print(\"Loop count: \",i,\" and mid point= \",x3 )\n",
    "        ite.append(i)\n",
    "        \n",
    "        x1=x2\n",
    "        x2=x3\n",
    "        i=i+1    \n",
    "     \n",
    "        if(i>10):\n",
    "            break\n",
    "     \n",
    "        condition = abs(eqn(x3))>e\n",
    "      \n",
    "    print(\"The root is: \",x3)\n",
    "     \n",
    "import matplotlib.pyplot as plt\n",
    "\n",
    "\n",
    "for i in range(2,3):\n",
    "    x1=i\n",
    "    x2=i+1\n",
    "    \n",
    "    secant(x1,x2)\n",
    "plt.title(\"Secant Method \", fontsize=20)\n",
    "plt.xlabel(\"Iteration\", fontsize=16)\n",
    "plt.ylabel(\"Error\", fontsize=14)\n",
    "plt.plot(ite,err)\n",
    "plt.show()"
   ]
  },
  {
   "cell_type": "markdown",
   "id": "831c73c9-a168-451e-95fc-e8b30d97fe45",
   "metadata": {},
   "source": [
    "<font size=\"5\">Afterall through all the statistics, we can say that the performance of the **\"Secant method\"** outperformed every root finding algorithms and this one's the best for the moment as the loop count is less.</font>"
   ]
  },
  {
   "cell_type": "code",
   "execution_count": null,
   "id": "62a22901",
   "metadata": {},
   "outputs": [],
   "source": []
  }
 ],
 "metadata": {
  "kernelspec": {
   "display_name": "Python 3 (ipykernel)",
   "language": "python",
   "name": "python3"
  },
  "language_info": {
   "codemirror_mode": {
    "name": "ipython",
    "version": 3
   },
   "file_extension": ".py",
   "mimetype": "text/x-python",
   "name": "python",
   "nbconvert_exporter": "python",
   "pygments_lexer": "ipython3",
   "version": "3.9.12"
  }
 },
 "nbformat": 4,
 "nbformat_minor": 5
}
