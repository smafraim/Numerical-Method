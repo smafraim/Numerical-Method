{
 "cells": [
  {
   "cell_type": "markdown",
   "metadata": {},
   "source": [
    "#                                                                                                           **C191077**"
   ]
  },
  {
   "cell_type": "markdown",
   "metadata": {},
   "source": [
    "<font size=\"3\">**Cramer's Rule**</font>\n",
    "\n",
    "3x + y + 2z = 3\n",
    "\n",
    "2x - 3y - z = -3\n",
    "\n",
    "x + 2y + z = 4"
   ]
  },
  {
   "cell_type": "code",
   "execution_count": 5,
   "metadata": {},
   "outputs": [],
   "source": [
    "import numpy as np"
   ]
  },
  {
   "cell_type": "code",
   "execution_count": 21,
   "metadata": {},
   "outputs": [
    {
     "name": "stdout",
     "output_type": "stream",
     "text": [
      "The matrix by cramer's is: [0.9999999999999996, 2.0000000000000004, -0.9999999999999991]\n"
     ]
    }
   ],
   "source": [
    "D1= np.array([[3,1,2],[-3,-3,-1],\n",
    "[4,2,1]])\n",
    "D2= np.array([[3,3,2],[2,-3,-1],\n",
    "[1,4,1]])\n",
    "D3= np.array([[3,1,3],[2,-3,-3],\n",
    "[1,2,4]])\n",
    "\n",
    "a = np.array([[3,1,2],[2,-3,-1],[1,2,1]]) \n",
    "\n",
    "A= np.linalg.det(a)\n",
    "D1_d=np.linalg.det(D1)\n",
    "D2_d=np.linalg.det(D2)\n",
    "D3_d=np.linalg.det(D3)\n",
    "\n",
    "#D_d=np.linalg.det(D1)\n",
    "\n",
    "X = D1_d/A\n",
    "Y= D2_d/A\n",
    "Z=D3_d/A\n",
    "\n",
    "if(A!=0):\n",
    "    print(f\"The matrix by cramer's is:\",[X,Y,Z])\n",
    "else:\n",
    "    print(\"invalid\")\n",
    "\n",
    "\n",
    " \n",
    "   \n"
   ]
  },
  {
   "cell_type": "code",
   "execution_count": null,
   "metadata": {},
   "outputs": [],
   "source": []
  }
 ],
 "metadata": {
  "kernelspec": {
   "display_name": "Python 3 (ipykernel)",
   "language": "python",
   "name": "python3"
  },
  "language_info": {
   "codemirror_mode": {
    "name": "ipython",
    "version": 3
   },
   "file_extension": ".py",
   "mimetype": "text/x-python",
   "name": "python",
   "nbconvert_exporter": "python",
   "pygments_lexer": "ipython3",
   "version": "3.9.12"
  }
 },
 "nbformat": 4,
 "nbformat_minor": 2
}
